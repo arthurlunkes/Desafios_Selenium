{
 "cells": [
  {
   "cell_type": "code",
   "execution_count": 9,
   "metadata": {},
   "outputs": [],
   "source": [
    "from time import sleep\n",
    "from selenium import webdriver"
   ]
  },
  {
   "cell_type": "code",
   "execution_count": 10,
   "metadata": {},
   "outputs": [],
   "source": [
    "\n",
    "drive = webdriver.Chrome(executable_path='./chromedriver')"
   ]
  },
  {
   "cell_type": "code",
   "execution_count": 11,
   "metadata": {},
   "outputs": [],
   "source": [
    "drive.get(\"https://www.google.com.br/\")"
   ]
  },
  {
   "cell_type": "code",
   "execution_count": 12,
   "metadata": {},
   "outputs": [],
   "source": [
    "pesquisar = drive.find_element_by_name(\"q\")\n",
    "pesquisar.send_keys(\"UNIMATER\")\n",
    "pesquisar.submit()\n",
    "\n",
    "sleep(2)\n",
    "click = drive.find_element_by_css_selector('#rso > div:nth-child(1) > div > div > div > div > div > div > div > div.yuRUbf > a > h3')\n",
    "click.click()"
   ]
  },
  {
   "cell_type": "code",
   "execution_count": 13,
   "metadata": {},
   "outputs": [],
   "source": [
    "sleep(2)\n",
    "curso = drive.find_element_by_xpath('/html/body/form/div[3]/main/article[1]/div/section/div[2]/a[8]')\n",
    "curso.click()"
   ]
  },
  {
   "cell_type": "code",
   "execution_count": 14,
   "metadata": {},
   "outputs": [],
   "source": [
    "sleep(4)\n",
    "nome = 'Arthur Lunkes'\n",
    "email = 'arthur.lunkes2017@gmail.com'\n",
    "telefone = '(46)99110-0092'\n",
    "msg = 'Aqui é o Arthur'"
   ]
  },
  {
   "cell_type": "code",
   "execution_count": 15,
   "metadata": {},
   "outputs": [],
   "source": [
    "form_nome = drive.find_element_by_xpath('//*[@id=\"txtNome\"]')\n",
    "form_nome.click()\n",
    "form_nome.send_keys(nome)\n",
    "\n",
    "form_email = drive.find_element_by_xpath('//*[@id=\"txtEmail\"]')\n",
    "form_email.click()\n",
    "form_email.send_keys(email)\n",
    "\n",
    "form_telefone = drive.find_element_by_xpath('//*[@id=\"txtTelefone\"]')\n",
    "form_telefone.click()\n",
    "form_telefone.send_keys(telefone)\n",
    "\n",
    "form_mensagem = drive.find_element_by_xpath('//*[@id=\"txtMensagem\"]')\n",
    "form_mensagem.click()\n",
    "form_mensagem.send_keys(msg)"
   ]
  }
 ],
 "metadata": {
  "kernelspec": {
   "display_name": "base",
   "language": "python",
   "name": "python3"
  },
  "language_info": {
   "codemirror_mode": {
    "name": "ipython",
    "version": 3
   },
   "file_extension": ".py",
   "mimetype": "text/x-python",
   "name": "python",
   "nbconvert_exporter": "python",
   "pygments_lexer": "ipython3",
   "version": "3.10.10"
  },
  "orig_nbformat": 4
 },
 "nbformat": 4,
 "nbformat_minor": 2
}
