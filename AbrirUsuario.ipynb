{
 "cells": [
  {
   "cell_type": "code",
   "execution_count": 9,
   "metadata": {},
   "outputs": [
    {
     "name": "stdout",
     "output_type": "stream",
     "text": [
      "Nome segunda aba =Login | Sistema Acadêmico SWA.JACAD\n"
     ]
    }
   ],
   "source": [
    "from time import sleep\n",
    "from selenium import webdriver"
   ]
  },
  {
   "cell_type": "code",
   "execution_count": null,
   "metadata": {},
   "outputs": [],
   "source": [
    "usuario = 'user'\n",
    "senha = 'password'"
   ]
  },
  {
   "cell_type": "code",
   "execution_count": null,
   "metadata": {},
   "outputs": [],
   "source": [
    "drive = webdriver.Chrome(executable_path= './chromedriver')"
   ]
  },
  {
   "cell_type": "code",
   "execution_count": null,
   "metadata": {},
   "outputs": [],
   "source": [
    "drive.get(\"https://www.google.com.br/\")"
   ]
  },
  {
   "cell_type": "code",
   "execution_count": null,
   "metadata": {},
   "outputs": [],
   "source": [
    "pesquisar = drive.find_element_by_name(\"q\")\n",
    "pesquisar.send_keys(\"UNIMATER\")\n",
    "pesquisar.submit()\n",
    "\n",
    "sleep(2)\n",
    "click = drive.find_element_by_css_selector('#rso > div:nth-child(1) > div > div > div > div > div > div > div > div.yuRUbf > a > h3')\n",
    "click.click()"
   ]
  },
  {
   "cell_type": "code",
   "execution_count": null,
   "metadata": {},
   "outputs": [],
   "source": [
    "sleep(2)\n",
    "aluno = drive.find_element_by_xpath('/html/body/form/div[3]/header/div[1]/div/nav[1]/a[1]')\n",
    "aluno.click()\n",
    "\n",
    "sleep(2)\n",
    "primeira_aba = drive.window_handles[1]\n",
    "\n",
    "drive.switch_to.window(primeira_aba)\n",
    "print(\"Nome segunda aba =\" + drive.title)"
   ]
  },
  {
   "cell_type": "code",
   "execution_count": null,
   "metadata": {},
   "outputs": [],
   "source": [
    "sleep(6)\n",
    "form_usuario = drive.find_element_by_xpath('/html/body/div/div[2]/div/div[2]/div/form/div[1]/div/input')\n",
    "form_usuario.click()\n",
    "form_usuario.send_keys(usuario)\n",
    "\n",
    "form_senha = drive.find_element_by_xpath('/html/body/div/div[2]/div/div[2]/div/form/div[2]/div[1]/input')\n",
    "form_senha.click()\n",
    "form_senha.send_keys(senha)\n",
    "\n",
    "acessar = drive.find_element_by_xpath('//*[@id=\"btn-login\"]')\n",
    "acessar.click()"
   ]
  }
 ],
 "metadata": {
  "kernelspec": {
   "display_name": "base",
   "language": "python",
   "name": "python3"
  },
  "language_info": {
   "codemirror_mode": {
    "name": "ipython",
    "version": 3
   },
   "file_extension": ".py",
   "mimetype": "text/x-python",
   "name": "python",
   "nbconvert_exporter": "python",
   "pygments_lexer": "ipython3",
   "version": "3.10.10"
  },
  "orig_nbformat": 4
 },
 "nbformat": 4,
 "nbformat_minor": 2
}
